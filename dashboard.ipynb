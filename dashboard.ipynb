{
 "cells": [
  {
   "cell_type": "code",
   "execution_count": null,
   "metadata": {
    "collapsed": false
   },
   "outputs": [],
   "source": [
    "#pip install plotly==5.6.0"
   ]
  },
  {
   "cell_type": "code",
   "execution_count": null,
   "metadata": {
    "collapsed": false
   },
   "outputs": [],
   "source": [
    "import plotly.express as px\n",
    "import plotly.io as pio\n",
    "pio.templates\n",
    "import plotly.graph_objects as go\n",
    "import numpy as np\n",
    "from plotly.subplots import make_subplots\n",
    "import pandas as pd\n",
    "import datetime\n",
    "from datetime import date, timedelta\n",
    "import re"
   ]
  },
  {
   "cell_type": "code",
   "execution_count": null,
   "metadata": {
    "collapsed": false
   },
   "outputs": [],
   "source": [
    "def cut(x):\n",
    "    return x[:-3]"
   ]
  },
  {
   "cell_type": "code",
   "execution_count": null,
   "metadata": {
    "collapsed": false
   },
   "outputs": [],
   "source": [
    "def format_date1(x):\n",
    "    return datetime.datetime.strptime(x, \"%Y-%m-%d %X\").strftime(\"%Y-%m-%d\")"
   ]
  },
  {
   "cell_type": "code",
   "execution_count": null,
   "metadata": {
    "collapsed": false
   },
   "outputs": [],
   "source": [
    "# New Subscribers Over Time\n",
    "\n",
    "#TODO Why not purchased_at inplace of subscriber_since?\n",
    "\n",
    "# *** NEW SUBSCRIBERS OVER TIME *** \n",
    "\n",
    "# format new subscriptions data (using only subscriber_since data and grouping by date)\n",
    "all_data_df = pd.read_csv(\"subscriptions.csv\")\n",
    "all_data_df = all_data_df.rename(columns={'subscriber_since': 'Date Purchased'})\n",
    "new_subs_df = pd.DataFrame(all_data_df['Date Purchased'])\n",
    "new_subs_df = new_subs_df.dropna(how = 'all')\n",
    "new_subs_df[\"Date Purchased\"] = new_subs_df[\"Date Purchased\"].apply(cut)\n",
    "new_subs_df[\"Date Purchased\"] = new_subs_df[\"Date Purchased\"].apply(format_date1)\n",
    "num_new_subs = new_subs_df.groupby(['Date Purchased']).size().to_frame(name = 'Number of Subscribers').reset_index()\n",
    "# Add a new column, 'Number of Subscribers From Trialers'. Initialize entire column to 0 \n",
    "num_new_subs['Number of Subscribers (Trialers)'] = 0\n",
    "print(num_new_subs.head(), \"\\n\")\n",
    "\n",
    "# **** NEW TRIALERS OVER TIME ***\n",
    "\n",
    "# format new subscriptions from trialers data (using only subscriber since_data and was_trialer and grouping by date)\n",
    "new_subs_from_trial_df = all_data_df[['Date Purchased', 'was_trial']].copy()\n",
    "new_subs_from_trial_df = new_subs_from_trial_df.dropna()\n",
    "print(new_subs_from_trial_df.head(), \"\\n\\n\", \"Trials over time\", \"\\n\")\n",
    "new_subs_from_trial_df = new_subs_from_trial_df[new_subs_from_trial_df.was_trial != \"f\"]\n",
    "print(new_subs_from_trial_df.head(), \"\\n\\n\", \"Frequency Table: Trialers Over Time\", \"\\n\")\n",
    "# Delete the 'was_trial' column, currently holding trues-only, and build a \"trues-only\" frequency\n",
    "# table. \n",
    "del new_subs_from_trial_df[\"was_trial\"]\n",
    "new_subs_from_trial_df[\"Date Purchased\"] = new_subs_from_trial_df[\"Date Purchased\"].apply(cut)\n",
    "new_subs_from_trial_df[\"Date Purchased\"] = new_subs_from_trial_df[\"Date Purchased\"].apply(format_date1)\n",
    "num_new_subs_from_trial = new_subs_from_trial_df.groupby(['Date Purchased']).size().to_frame(name = 'Number of Subscribers (Trialers)').reset_index()\n",
    "print(num_new_subs_from_trial.head(), \"\\n\", \"Total Subscriptions and Trials Component Over Time\", \"\\n\")\n",
    "\n",
    "# *** COMBINED: NEW SUBSCRIBERS AND TRIALERS OVER TIME ***\n",
    "\n",
    "# combine two dfs\n",
    "all_subs = pd.merge(num_new_subs, num_new_subs_from_trial, on=\"Date Purchased\", how=\"outer\")\n",
    "# There'll two columns with the lede, \"Number of Subscribers (Trialers)...\"\n",
    "del all_subs[\"Number of Subscribers (Trialers)_x\"]\n",
    "all_subs = all_subs.rename(columns={'Number of Subscribers (Trialers)_y': 'Number of Subscribers (Trialers)'})\n",
    "all_subs['Number of Subscribers (Trialers)'].fillna(0, inplace=True)\n",
    "\n",
    "#  plot data\n",
    "df = all_subs\n",
    "template = \"plotly_white\"\n",
    "fig = px.line(df, x=\"Date Purchased\", y=df.columns,\n",
    "              hover_data={\"Date Purchased\": \"|%B %d, %Y\"},\n",
    "              template=template,\n",
    "              title='Subscribers Over Time, Including Trials View')\n",
    "\n",
    "fig.update_xaxes(\n",
    "    dtick=\"M1\",\n",
    "    tickformat=\"%b\\n%Y\")\n",
    "\n",
    "#fig.show()\n",
    "fig.write_html('index.html', auto_open=True)\n"
   ]
  }
 ],
 "metadata": {
  "kernelspec": {
   "display_name": "Python 3 (system-wide)",
   "language": "python",
   "metadata": {
    "cocalc": {
     "description": "Python 3 programming language",
     "priority": 100,
     "url": "https://www.python.org/"
    }
   },
   "name": "python3",
   "resource_dir": "/ext/jupyter/kernels/python3"
  },
  "language_info": {
   "codemirror_mode": {
    "name": "ipython",
    "version": 3
   },
   "file_extension": ".py",
   "mimetype": "text/x-python",
   "name": "python",
   "nbconvert_exporter": "python",
   "pygments_lexer": "ipython3",
   "version": "3.8.3"
  }
 },
 "nbformat": 4,
 "nbformat_minor": 4
}
